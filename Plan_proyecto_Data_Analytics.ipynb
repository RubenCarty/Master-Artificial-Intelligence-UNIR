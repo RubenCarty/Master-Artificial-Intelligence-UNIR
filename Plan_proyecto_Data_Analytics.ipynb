{
  "nbformat": 4,
  "nbformat_minor": 0,
  "metadata": {
    "colab": {
      "private_outputs": true,
      "provenance": [],
      "authorship_tag": "ABX9TyNSj3Ba1pCN+jA9kXzjmKcW",
      "include_colab_link": true
    },
    "kernelspec": {
      "name": "python3",
      "display_name": "Python 3"
    },
    "language_info": {
      "name": "python"
    }
  },
  "cells": [
    {
      "cell_type": "markdown",
      "metadata": {
        "id": "view-in-github",
        "colab_type": "text"
      },
      "source": [
        "<a href=\"https://colab.research.google.com/github/RubenCarty/Master-Artificial-Intelligence-UNIR/blob/main/Plan_proyecto_Data_Analytics.ipynb\" target=\"_parent\"><img src=\"https://colab.research.google.com/assets/colab-badge.svg\" alt=\"Open In Colab\"/></a>"
      ]
    },
    {
      "cell_type": "code",
      "execution_count": null,
      "metadata": {
        "id": "jP9Kj-q1zYij"
      },
      "outputs": [],
      "source": [
        "import pandas as pd\n",
        "\n",
        "# Crear el plan detallado para el proyecto de analítica descriptiva en la fábrica de cementos.\n",
        "\n",
        "# Definir las fases, tareas, subtareas, horas y perfiles necesarios\n",
        "data = {\n",
        "    \"Fase\": [\n",
        "        \"Planificación\", \"Planificación\", \"Planificación\",\n",
        "        \"Ingesta de Datos\", \"Ingesta de Datos\", \"Ingesta de Datos\", \"Ingesta de Datos\",\n",
        "        \"Modelado de Datos\", \"Modelado de Datos\", \"Modelado de Datos\",\n",
        "        \"Desarrollo de Dashboards\", \"Desarrollo de Dashboards\", \"Desarrollo de Dashboards\",\n",
        "        \"Testing y Validación\", \"Testing y Validación\",\n",
        "        \"Documentación\", \"Documentación\",\n",
        "        \"Capacitación\", \"Capacitación\",\n",
        "        \"Soporte Post-Producción\", \"Soporte Post-Producción\"\n",
        "    ],\n",
        "    \"Tarea\": [\n",
        "        \"Definición de alcance y requerimientos\",\n",
        "        \"Revisión de arquitectura existente\",\n",
        "        \"Planificación de recursos y tiempos\",\n",
        "        \"Implementación de vistas CDS en SAP\",\n",
        "        \"Extracción de datos de SAP, SharePoint, PI System\",\n",
        "        \"Transformación y carga en Data Lake (Bronce, Plata, Oro)\",\n",
        "        \"Configuración de pipelines en AWS\",\n",
        "        \"Diseño de modelo de datos en Redshift/Athena\",\n",
        "        \"Implementación de reglas de calidad de datos\",\n",
        "        \"Implementación de reglas de negocio\",\n",
        "        \"Desarrollo de dashboards en Power BI\",\n",
        "        \"Optimización y migración de dashboards existentes\",\n",
        "        \"Configuración de reportes y alertas\",\n",
        "        \"Pruebas unitarias y de integración\",\n",
        "        \"Validación con usuarios en DEV, QA, PRD\",\n",
        "        \"Elaboración de documentación técnica\",\n",
        "        \"Elaboración de manuales de usuario\",\n",
        "        \"Capacitación técnica a equipo interno\",\n",
        "        \"Capacitación en uso de dashboards a usuarios finales\",\n",
        "        \"Monitoreo de la solución en producción\",\n",
        "        \"Soporte y resolución de incidencias\"\n",
        "    ],\n",
        "    \"Subtarea\": [\n",
        "        \"Reuniones con stakeholders\",\n",
        "        \"Análisis de la arquitectura referencial\",\n",
        "        \"Creación del cronograma detallado\",\n",
        "        \"Desarrollo de vistas CDS específicas\",\n",
        "        \"Conexión y extracción desde SAP\",\n",
        "        \"Limpieza y normalización de datos\",\n",
        "        \"Creación de pipelines de datos\",\n",
        "        \"Normalización y estructuración del modelo\",\n",
        "        \"Desarrollo de reglas de validación\",\n",
        "        \"Codificación de reglas de negocio\",\n",
        "        \"Creación de visualizaciones y KPIs\",\n",
        "        \"Refactorización de dashboards migrados\",\n",
        "        \"Configuración de alertas automáticas\",\n",
        "        \"Ejecución de pruebas automatizadas\",\n",
        "        \"Sesiones de validación con el equipo de QA\",\n",
        "        \"Documentación de la arquitectura y procesos\",\n",
        "        \"Creación de guías de usuario finales\",\n",
        "        \"Sesiones de Q&A y formación\",\n",
        "        \"Formación sobre uso de Power BI\",\n",
        "        \"Monitoreo continuo de KPIs\",\n",
        "        \"Resolución de tickets y problemas\"\n",
        "    ],\n",
        "    \"Horas Estimadas\": [\n",
        "        20, 16, 12,\n",
        "        30, 40, 50, 24,\n",
        "        40, 36, 24,\n",
        "        60, 50, 20,\n",
        "        30, 24,\n",
        "        40, 24,\n",
        "        20, 16,\n",
        "        30, 24\n",
        "    ],\n",
        "    \"Perfil Necesario\": [\n",
        "        \"Project Manager\", \"Architect\", \"Project Manager\",\n",
        "        \"SAP Developer\", \"Data Engineer\", \"Data Engineer\", \"Data Engineer\",\n",
        "        \"Data Architect\", \"Data Engineer\", \"Data Engineer\",\n",
        "        \"BI Developer\", \"BI Developer\", \"BI Developer\",\n",
        "        \"QA Engineer\", \"QA Engineer\",\n",
        "        \"Technical Writer\", \"Technical Writer\",\n",
        "        \"Trainer\", \"Trainer\",\n",
        "        \"Support Engineer\", \"Support Engineer\"\n",
        "    ]\n",
        "}\n",
        "\n",
        "# Crear el DataFrame\n",
        "df = pd.DataFrame(data)\n",
        "\n",
        "# Guardar el DataFrame en un archivo Excel\n",
        "output_file = \"plan_proyecto_analitica_descriptiva.xlsx\"\n",
        "df.to_excel(output_file, index=False)\n",
        "\n",
        "# Proveer enlace para descargar el archivo\n",
        "from google.colab import files\n",
        "files.download(output_file)\n"
      ]
    },
    {
      "cell_type": "code",
      "source": [
        "from google.colab import drive\n",
        "drive.mount('/content/drive')"
      ],
      "metadata": {
        "id": "kCbSpZO-0h_F"
      },
      "execution_count": null,
      "outputs": []
    }
  ]
}