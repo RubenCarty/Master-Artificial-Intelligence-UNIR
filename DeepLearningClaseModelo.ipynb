{
  "nbformat": 4,
  "nbformat_minor": 0,
  "metadata": {
    "colab": {
      "private_outputs": true,
      "provenance": [],
      "authorship_tag": "ABX9TyM7Ic6oJSetZPNEzj7cnace",
      "include_colab_link": true
    },
    "kernelspec": {
      "name": "python3",
      "display_name": "Python 3"
    },
    "language_info": {
      "name": "python"
    }
  },
  "cells": [
    {
      "cell_type": "markdown",
      "metadata": {
        "id": "view-in-github",
        "colab_type": "text"
      },
      "source": [
        "<a href=\"https://colab.research.google.com/github/RubenCarty/Master-Artificial-Intelligence-UNIR/blob/main/DeepLearningClaseModelo.ipynb\" target=\"_parent\"><img src=\"https://colab.research.google.com/assets/colab-badge.svg\" alt=\"Open In Colab\"/></a>"
      ]
    },
    {
      "cell_type": "markdown",
      "source": [
        "# Implementación de Reconocimiento Facial\n",
        "## [M.Sc. Ruben Quispe](https://www.linkedin.com/in/ruben-quispe-l/)\n",
        "# Paso 1: Configuración del Entorno"
      ],
      "metadata": {
        "id": "JoJ2UQToHA_r"
      }
    },
    {
      "cell_type": "code",
      "execution_count": null,
      "metadata": {
        "id": "PWNI3FgFPG-f"
      },
      "outputs": [],
      "source": [
        "# Instalar TensorFlow\n",
        "!pip install tensorflow\n"
      ]
    },
    {
      "cell_type": "markdown",
      "source": [
        "# Paso 2: Importar Librerías Necesarias"
      ],
      "metadata": {
        "id": "6d6j5q6ZHmJ2"
      }
    },
    {
      "cell_type": "code",
      "source": [
        "import tensorflow as tf\n",
        "from tensorflow.keras import layers, models\n",
        "import numpy as np\n",
        "import matplotlib.pyplot as plt\n",
        "from sklearn.datasets import fetch_lfw_people\n",
        "from sklearn.model_selection import train_test_split\n",
        "from sklearn.preprocessing import StandardScaler\n"
      ],
      "metadata": {
        "id": "g4_hyyKaHje8"
      },
      "execution_count": null,
      "outputs": []
    },
    {
      "cell_type": "markdown",
      "source": [
        "# Paso 3: Cargar y Preprocesar Datos\n",
        "Utilizaremos el conjunto de datos LFW, que contiene imágenes de rostros etiquetados."
      ],
      "metadata": {
        "id": "Dg-zWaZiHp7X"
      }
    },
    {
      "cell_type": "code",
      "source": [
        "# Cargar el dataset de LFW\n",
        "lfw_people = fetch_lfw_people(min_faces_per_person=70, resize=0.4)\n",
        "\n",
        "# Extraer imágenes y etiquetas\n",
        "X = lfw_people.images\n",
        "y = lfw_people.target\n",
        "\n",
        "# Normalizar los datos\n",
        "X = X / 255.0\n",
        "\n",
        "# Dividir el conjunto de datos en entrenamiento y prueba\n",
        "X_train, X_test, y_train, y_test = train_test_split(X, y, test_size=0.2, random_state=42)\n",
        "\n",
        "# Redimensionar los datos para que se adapten a la entrada de la red neuronal\n",
        "X_train = X_train.reshape(X_train.shape[0], X_train.shape[1], X_train.shape[2], 1)\n",
        "X_test = X_test.reshape(X_test.shape[0], X_test.shape[1], X_test.shape[2], 1)\n"
      ],
      "metadata": {
        "id": "8IE6MK2MHxVN"
      },
      "execution_count": null,
      "outputs": []
    },
    {
      "cell_type": "markdown",
      "source": [
        "# Paso 4: Construir el Modelo de Red Neuronal"
      ],
      "metadata": {
        "id": "gcenHGbOIsM3"
      }
    },
    {
      "cell_type": "code",
      "source": [
        "# Construir el modelo de red neuronal\n",
        "model = models.Sequential([\n",
        "    layers.Conv2D(32, (3, 3), activation='relu', input_shape=(X_train.shape[1], X_train.shape[2], 1)),\n",
        "    layers.MaxPooling2D((2, 2)),\n",
        "    layers.Conv2D(64, (3, 3), activation='relu'),\n",
        "    layers.MaxPooling2D((2, 2)),\n",
        "    layers.Conv2D(64, (3, 3), activation='relu'),\n",
        "    layers.Flatten(),\n",
        "    layers.Dense(64, activation='relu'),\n",
        "    layers.Dense(len(lfw_people.target_names), activation='softmax')\n",
        "])\n",
        "\n",
        "# Compilar el modelo\n",
        "model.compile(optimizer='adam',\n",
        "              loss='sparse_categorical_crossentropy',\n",
        "              metrics=['accuracy'])\n"
      ],
      "metadata": {
        "id": "gK_NO-SiIvGC"
      },
      "execution_count": null,
      "outputs": []
    },
    {
      "cell_type": "markdown",
      "source": [
        "# Paso 5: Entrenar el Modelo"
      ],
      "metadata": {
        "id": "Uzzzs3AUI6JE"
      }
    },
    {
      "cell_type": "code",
      "source": [
        "# Entrenar el modelo\n",
        "history = model.fit(X_train, y_train, epochs=10, validation_split=0.2)\n"
      ],
      "metadata": {
        "id": "ToOaT3UsI9Ox"
      },
      "execution_count": null,
      "outputs": []
    },
    {
      "cell_type": "markdown",
      "source": [
        "# Paso 6: Evaluar el Modelo"
      ],
      "metadata": {
        "id": "LcGDv8ubJDhD"
      }
    },
    {
      "cell_type": "code",
      "source": [
        "# Evaluar el modelo en el conjunto de test\n",
        "test_loss, test_acc = model.evaluate(X_test, y_test)\n",
        "print('\\nTest accuracy:', test_acc)\n"
      ],
      "metadata": {
        "id": "9gKQ9ySTI_n7"
      },
      "execution_count": null,
      "outputs": []
    },
    {
      "cell_type": "markdown",
      "source": [
        "# Paso 7: Realizar Predicciones"
      ],
      "metadata": {
        "id": "vg6px4z5JKlw"
      }
    },
    {
      "cell_type": "code",
      "source": [
        "# Realizar predicciones\n",
        "predictions = model.predict(X_test)\n",
        "\n",
        "# Mostrar algunas predicciones\n",
        "def plot_image(i, predictions_array, true_label, img):\n",
        "    predictions_array, true_label, img = predictions_array[i], true_label[i], img[i]\n",
        "    plt.grid(False)\n",
        "    plt.xticks([])\n",
        "    plt.yticks([])\n",
        "    plt.imshow(img, cmap=plt.cm.binary)\n",
        "\n",
        "    predicted_label = np.argmax(predictions_array)\n",
        "    if predicted_label == true_label:\n",
        "        color = 'blue'\n",
        "    else:\n",
        "        color = 'red'\n",
        "\n",
        "    plt.xlabel(\"{} {:2.0f}% ({})\".format(lfw_people.target_names[predicted_label],\n",
        "                                         100*np.max(predictions_array),\n",
        "                                         lfw_people.target_names[true_label]),\n",
        "                                         color=color)\n",
        "\n",
        "# Graficar algunas imágenes con sus predicciones\n",
        "num_rows = 5\n",
        "num_cols = 3\n",
        "num_images = num_rows * num_cols\n",
        "plt.figure(figsize=(2*2*num_cols, 2*num_rows))\n",
        "for i in range(num_images):\n",
        "    plt.subplot(num_rows, 2*num_cols, 2*i+1)\n",
        "    plot_image(i, predictions, y_test, X_test.reshape(X_test.shape[0], X_test.shape[1], X_test.shape[2]))\n",
        "plt.tight_layout()\n",
        "plt.show()\n"
      ],
      "metadata": {
        "id": "3B3cNwfiJPvn"
      },
      "execution_count": null,
      "outputs": []
    }
  ]
}